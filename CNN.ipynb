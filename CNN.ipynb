{
 "cells": [
  {
   "cell_type": "code",
   "execution_count": 1,
   "metadata": {},
   "outputs": [],
   "source": [
    "import torch \n",
    "import matplotlib.pyplot as plt\n",
    "import numpy as np\n",
    "from torch import nn, optim\n",
    "import torchvision.transforms as transforms\n",
    "from torch.utils.data import DataLoader\n",
    "import torchvision.datasets as dsets"
   ]
  },
  {
   "cell_type": "code",
   "execution_count": 2,
   "metadata": {},
   "outputs": [],
   "source": [
    "def show_data(data_sample):\n",
    "    plt.imshow(data_sample[0].numpy().reshape(image, image), cmap='gray')\n",
    "    plt.title('y= ' + str(data_sample[1]))\n"
   ]
  },
  {
   "cell_type": "code",
   "execution_count": 3,
   "metadata": {},
   "outputs": [],
   "source": [
    "image=16\n",
    "composed= transforms.Compose([transforms.Resize((image, image)), transforms.ToTensor()])"
   ]
  },
  {
   "cell_type": "code",
   "execution_count": 4,
   "metadata": {},
   "outputs": [],
   "source": [
    "train_dataset= dsets.MNIST( root='./data', train= True, download= True, transform= composed)\n",
    "validation_dataset= dsets.MNIST( root='./data', train= False, download= True, transform= composed)"
   ]
  },
  {
   "cell_type": "code",
   "execution_count": 5,
   "metadata": {},
   "outputs": [
    {
     "data": {
      "image/png": "[encoded data removed]",
      "text/plain": [
       "<Figure size 432x288 with 1 Axes>"
      ]
     },
     "metadata": {
      "needs_background": "light"
     },
     "output_type": "display_data"
    }
   ],
   "source": [
    "show_data(train_dataset[54])"
   ]
  },
  {
   "cell_type": "code",
   "execution_count": 6,
   "metadata": {},
   "outputs": [],
   "source": [
    "class CNN(nn.Module):\n",
    "    def __init__(self, out1=16, out2=32, number_of_classes=10):\n",
    "        super(CNN, self).__init__()\n",
    "        #1st convolution layer\n",
    "        self.cnn1= nn.Conv2d(in_channels=1, out_channels= out1, kernel_size=5, padding=2)\n",
    "        self.bn1= nn.BatchNorm2d(out1)\n",
    "        self.maxpool1= nn.MaxPool2d(kernel_size=2)\n",
    "        \n",
    "        #2nd convolution layer\n",
    "        self.cnn2= nn.Conv2d(in_channels=out1, out_channels= out2, kernel_size=5, stride=1, padding=2)\n",
    "        self.bn2= nn.BatchNorm2d(out2)\n",
    "        self.maxpool2= nn.MaxPool2d(kernel_size=2)\n",
    "        \n",
    "        #final layer\n",
    "        self.linear= nn.Linear(out2*4*4, number_of_classes)\n",
    "        self.bn3= nn.BatchNorm1d(number_of_classes)       \n",
    "        \n",
    "        \n",
    "    def forward(self, x):\n",
    "        #forward function for the 1st layer\n",
    "        x= self.cnn1(x)\n",
    "        x= self.bn1(x)\n",
    "        x= torch.relu(x)\n",
    "        x= self.maxpool1(x)\n",
    "        \n",
    "        #forward function for the second layer\n",
    "        x= self.cnn2(x)\n",
    "        x= self.bn2(x)\n",
    "        x= torch.relu(x)\n",
    "        x= self.maxpool2(x)\n",
    "         \n",
    "        # forward function for the final layer\n",
    "        x= x.view(x.size(0), -1)\n",
    "        x= self.linear(x)\n",
    "        x= self.bn3(x)\n",
    "        \n",
    "        return x\n",
    "        \n",
    "    \n",
    "        \n",
    "        \n",
    "        "
   ]
  },
  {
   "cell_type": "code",
   "execution_count": 7,
   "metadata": {},
   "outputs": [],
   "source": [
    "model= CNN( out1=16, out2=32, number_of_classes=10)"
   ]
  },
  {
   "cell_type": "code",
   "execution_count": 8,
   "metadata": {},
   "outputs": [],
   "source": [
    "train_loader= DataLoader(dataset= train_dataset, batch_size=100)\n",
    "validation_loader= DataLoader( dataset= validation_dataset, batch_size=100)"
   ]
  },
  {
   "cell_type": "code",
   "execution_count": 9,
   "metadata": {},
   "outputs": [],
   "source": [
    "criterion= nn.CrossEntropyLoss()\n",
    "optimizer= optim.SGD( model.parameters(), lr=0.1)"
   ]
  },
  {
   "cell_type": "code",
   "execution_count": 10,
   "metadata": {},
   "outputs": [],
   "source": [
    "epochs=10\n",
    "useful_data={'training_loss':[],  'validation_accuracy':[]}\n",
    "for epochs in range(epochs):\n",
    "    cost=0\n",
    "    model.train()\n",
    "    for x,y in train_loader:        \n",
    "        optimizer.zero_grad()\n",
    "        z= model(x)\n",
    "        loss= criterion(z,y)        \n",
    "        loss.backward()\n",
    "        optimizer.step()\n",
    "        cost+=loss.item()\n",
    "    useful_data['training_loss'].append(cost)\n",
    "    \n",
    "    correct=0\n",
    "    model.eval()\n",
    "    for x_test, y_test in validation_loader:        \n",
    "        yhat= model(x_test)\n",
    "        _,label= torch.max(yhat.data, 1)\n",
    "        correct+= (label == y_test).sum().item()\n",
    "    accuracy= 100*(correct/len(validation_dataset))\n",
    "    useful_data['validation_accuracy'].append(accuracy)\n",
    "    "
   ]
  },
  {
   "cell_type": "code",
   "execution_count": 11,
   "metadata": {},
   "outputs": [
    {
     "data": {
      "image/png": "[encoded data removed]",
      "text/plain": [
       "<Figure size 432x288 with 2 Axes>"
      ]
     },
     "metadata": {
      "needs_background": "light"
     },
     "output_type": "display_data"
    }
   ],
   "source": [
    "fig, ax1 = plt.subplots()\n",
    "color = 'tab:red'\n",
    "ax1.plot(useful_data['training_loss'], color=color)\n",
    "ax1.set_xlabel('epoch', color=color)\n",
    "ax1.set_ylabel('Cost', color=color)\n",
    "ax1.tick_params(axis='y', color=color)\n",
    "    \n",
    "ax2 = ax1.twinx()  \n",
    "color = 'tab:blue'\n",
    "ax2.set_ylabel('accuracy', color=color) \n",
    "ax2.set_xlabel('epoch', color=color)\n",
    "ax2.plot( useful_data['validation_accuracy'], color=color)\n",
    "ax2.tick_params(axis='y', color=color)\n",
    "fig.tight_layout()"
   ]
  },
  {
   "cell_type": "code",
   "execution_count": 12,
   "metadata": {},
   "outputs": [],
   "source": [
    "path='./mydata.pth'\n",
    "torch.save(model.state_dict(), path) "
   ]
  },
  {
   "cell_type": "code",
   "execution_count": 11,
   "metadata": {},
   "outputs": [
    {
     "data": {
      "text/plain": [
       "CNN(\n",
       "  (cnn1): Conv2d(1, 16, kernel_size=(5, 5), stride=(1, 1), padding=(2, 2))\n",
       "  (bn1): BatchNorm2d(16, eps=1e-05, momentum=0.1, affine=True, track_running_stats=True)\n",
       "  (maxpool1): MaxPool2d(kernel_size=2, stride=2, padding=0, dilation=1, ceil_mode=False)\n",
       "  (cnn2): Conv2d(16, 32, kernel_size=(5, 5), stride=(1, 1), padding=(2, 2))\n",
       "  (bn2): BatchNorm2d(32, eps=1e-05, momentum=0.1, affine=True, track_running_stats=True)\n",
       "  (maxpool2): MaxPool2d(kernel_size=2, stride=2, padding=0, dilation=1, ceil_mode=False)\n",
       "  (linear): Linear(in_features=512, out_features=10, bias=True)\n",
       "  (bn3): BatchNorm1d(10, eps=1e-05, momentum=0.1, affine=True, track_running_stats=True)\n",
       ")"
      ]
     },
     "execution_count": 11,
     "metadata": {},
     "output_type": "execute_result"
    }
   ],
   "source": [
    "model= CNN(out1=16, out2=32, number_of_classes=10)\n",
    "model.load_state_dict(torch.load('./mydata.pth'))\n",
    "model.eval()"
   ]
  },
  {
   "cell_type": "code",
   "execution_count": 12,
   "metadata": {},
   "outputs": [
    {
     "name": "stdout",
     "output_type": "stream",
     "text": [
      "0.9893\n"
     ]
    }
   ],
   "source": [
    "correct=0\n",
    "for x_test, y_test in validation_loader:\n",
    "    z= model(x_test)\n",
    "    _,label= torch.max(z.data, 1)\n",
    "    correct+= (label == y_test).sum().item()\n",
    "accuracy= correct/ len(validation_dataset)\n",
    "print(accuracy)"
   ]
  },
  {
   "cell_type": "code",
   "execution_count": 19,
   "metadata": {},
   "outputs": [],
   "source": [
    "from tkinter import *\n",
    "import tkinter as tk\n",
    "import win32gui\n",
    "from PIL import ImageGrab, Image\n",
    "import numpy as np\n",
    "def predict_digit(img):\n",
    "    #resize image to 28x28 pixels\n",
    "    composed= transforms.Compose([transforms.Resize((image, image)), transforms.ToTensor()])\n",
    "    #reshaping to support our model input and normalizing\n",
    "    img= composed(img)\n",
    "    #predicting the class\n",
    "    img= img.unsqueeze(1)\n",
    "    res= model(img)\n",
    "    _,label= torch.max(res.data, 1)\n",
    "    r= label.tolist()\n",
    "    return max(r)\n",
    "class App(tk.Tk):\n",
    "    def __init__(self):\n",
    "        tk.Tk.__init__(self)\n",
    "        self.x = self.y = 0\n",
    "        # Creating elements\n",
    "        self.canvas = tk.Canvas(self, width=300, height=300, bg = \"white\", cursor=\"cross\")\n",
    "        self.label = tk.Label(self, text=\"Thinking..\", font=(\"Helvetica\", 48))\n",
    "        self.classify_btn = tk.Button(self, text = \"Recognise\", command =         self.classify_handwriting) \n",
    "        self.button_clear = tk.Button(self, text = \"Clear\", command = self.clear_all)\n",
    "        # Grid structure\n",
    "        self.canvas.grid(row=0, column=0, pady=2, sticky=W, )\n",
    "        self.label.grid(row=0, column=1,pady=2, padx=2)\n",
    "        self.classify_btn.grid(row=1, column=1, pady=2, padx=2)\n",
    "        self.button_clear.grid(row=1, column=0, pady=2)\n",
    "        #self.canvas.bind(\"<Motion>\", self.start_pos)\n",
    "        self.canvas.bind(\"<B1-Motion>\", self.draw_lines)\n",
    "    def clear_all(self):\n",
    "        self.canvas.delete(\"all\")\n",
    "    def classify_handwriting(self):\n",
    "        HWND = self.canvas.winfo_id() # get the handle of the canvas\n",
    "        rect = win32gui.GetWindowRect(HWND) # get the coordinate of the canvas\n",
    "        im = ImageGrab.grab(rect)\n",
    "        digit  = predict_digit(im)\n",
    "        self.label.configure(text= str(digit))\n",
    "    def draw_lines(self, event):\n",
    "        self.x = event.x\n",
    "        self.y = event.y\n",
    "        r=8\n",
    "        self.canvas.create_oval(self.x-r, self.y-r, self.x + r, self.y + r, fill='black')\n",
    "app = App()\n",
    "mainloop()\n"
   ]
  },
  {
   "cell_type": "code",
   "execution_count": null,
   "metadata": {},
   "outputs": [],
   "source": []
  }
 ],
 "metadata": {
  "kernelspec": {
   "display_name": "Python 3",
   "language": "python",
   "name": "python3"
  },
  "language_info": {
   "codemirror_mode": {
    "name": "ipython",
    "version": 3
   },
   "file_extension": ".py",
   "mimetype": "text/x-python",
   "name": "python",
   "nbconvert_exporter": "python",
   "pygments_lexer": "ipython3",
   "version": "3.7.4"
  }
 },
 "nbformat": 4,
 "nbformat_minor": 4
}
